{
  "nbformat": 4,
  "nbformat_minor": 0,
  "metadata": {
    "colab": {
      "provenance": [],
      "authorship_tag": "ABX9TyMLC86v9XnKId4Q8x1W0B5A",
      "include_colab_link": true
    },
    "kernelspec": {
      "name": "python3",
      "display_name": "Python 3"
    },
    "language_info": {
      "name": "python"
    }
  },
  "cells": [
    {
      "cell_type": "markdown",
      "metadata": {
        "id": "view-in-github",
        "colab_type": "text"
      },
      "source": [
        "<a href=\"https://colab.research.google.com/github/Dharmeshgadhiya161/Mid-Course-Assessment---ML-Case-Study/blob/main/CreditScoring_Supervised_Classification.ipynb\" target=\"_parent\"><img src=\"https://colab.research.google.com/assets/colab-badge.svg\" alt=\"Open In Colab\"/></a>"
      ]
    },
    {
      "cell_type": "markdown",
      "source": [
        "# **Mid Course Assessment - ML Case Study**"
      ],
      "metadata": {
        "id": "qZG1TYh1038t"
      }
    },
    {
      "cell_type": "markdown",
      "source": [
        "# **Project Name:** Credit Scoring (Banking & Financial Services)  \n",
        "##### **Project Type**    - Supervised Classification - AUC-ROC"
      ],
      "metadata": {
        "id": "GQRfdI9D1CDn"
      }
    },
    {
      "cell_type": "markdown",
      "source": [
        "# **Project Summary -**"
      ],
      "metadata": {
        "id": "cWVcJOaZ1qRS"
      }
    },
    {
      "cell_type": "markdown",
      "source": [
        "# **Problem Statement**"
      ],
      "metadata": {
        "id": "aXNAEMJQ2KQB"
      }
    },
    {
      "cell_type": "markdown",
      "source": [
        "# **Data Description**"
      ],
      "metadata": {
        "id": "3dbDpOkS2K2w"
      }
    },
    {
      "cell_type": "markdown",
      "source": [
        "### Import Libraries"
      ],
      "metadata": {
        "id": "nJrjIKwU2UvJ"
      }
    },
    {
      "cell_type": "code",
      "source": [
        "# Import Libraries\n",
        "import pandas as pd\n",
        "import numpy as np\n",
        "import matplotlib.pyplot as plt\n",
        "import seaborn as sns\n",
        "import datetime\n",
        "import missingno as msno\n",
        "import matplotlib\n",
        "import matplotlib.pylab as pylab"
      ],
      "metadata": {
        "id": "JqU9JtZn2PXo"
      },
      "execution_count": null,
      "outputs": []
    },
    {
      "cell_type": "markdown",
      "source": [
        "### Dataset Loading"
      ],
      "metadata": {
        "id": "ONuFDmPC2hPZ"
      }
    },
    {
      "cell_type": "code",
      "execution_count": null,
      "metadata": {
        "id": "KHieMdEfBulR"
      },
      "outputs": [],
      "source": [
        "#Mounting drive\n",
        "from google.colab import drive\n",
        "drive.mount('/content/drive')"
      ]
    }
  ]
}